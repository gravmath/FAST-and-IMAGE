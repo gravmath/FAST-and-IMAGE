{
 "cells": [
  {
   "cell_type": "markdown",
   "metadata": {},
   "source": [
    "Last Updated 11/12/2016\n",
    "\n",
    "The aim here is to generate the angle between IMAGE and its apogee vector over the course of the mission."
   ]
  },
  {
   "cell_type": "code",
   "execution_count": 1,
   "metadata": {
    "collapsed": false
   },
   "outputs": [],
   "source": [
    "import datetime          as dt\n",
    "import pickle\n",
    "import numpy             as np\n",
    "import scipy             as sp\n",
    "import matplotlib.pyplot as plt\n",
    "%matplotlib inline"
   ]
  },
  {
   "cell_type": "code",
   "execution_count": 2,
   "metadata": {
    "collapsed": true
   },
   "outputs": [],
   "source": [
    "work_path = 'c:/users/cschiff/Documents/GitHub/FAST-and-IMAGE/'\n",
    "home_path = 'c:/users/Conrad/Documents/GitHub/FAST-and-IMAGE/'\n",
    "IMAGE_eph = open(home_path+'IMAGE_full_eph.eph','r')"
   ]
  },
  {
   "cell_type": "code",
   "execution_count": 3,
   "metadata": {
    "collapsed": true
   },
   "outputs": [],
   "source": [
    "IMAGE_date_format = '%d-%m-%Y %H:%M:%S.%f'"
   ]
  },
  {
   "cell_type": "code",
   "execution_count": 4,
   "metadata": {
    "collapsed": true
   },
   "outputs": [],
   "source": [
    "IMAGE_blob = IMAGE_eph.readlines()\n",
    "IMAGE_eph.close()"
   ]
  },
  {
   "cell_type": "code",
   "execution_count": null,
   "metadata": {
    "collapsed": true
   },
   "outputs": [],
   "source": [
    "N      = len(IMAGE_blob)\n",
    "Epochs = [0]*N\n",
    "States = np.zeros((N,6))\n",
    "Ls     = np.zeros((N,3))\n",
    "nEccs  = np.zeros((N,3))\n",
    "aTAs   = np.zeros((N))"
   ]
  },
  {
   "cell_type": "code",
   "execution_count": null,
   "metadata": {
    "collapsed": false
   },
   "outputs": [],
   "source": [
    "mu      = 398600.4414  #gravitational constant of the Earth\n",
    "counter = 0\n",
    "for line in IMAGE_blob:\n",
    "    record              = line.strip('\\n\\r').split()\n",
    "    epoch               = dt.datetime.strptime(record[0]+' '+record[1],IMAGE_date_format)\n",
    "    Epochs[counter]     = epoch\n",
    "    vx, vy, vz, x, y, z = map(float,record[2:])\n",
    "    r                   = np.array([x,y,z])\n",
    "    r_norm              = np.sqrt(r.dot(r))\n",
    "    v                   = np.array([vx,vy,vz])\n",
    "    v_norm              = np.sqrt(v.dot(v))\n",
    "    L                   = np.array([y*vz-z*vy,z*vx-x*vz,x*vy-y*vx])\n",
    "    Lx, Ly, Lz          = L\n",
    "    L_norm              = np.sqrt(L.dot(L))\n",
    "    v_cross_L           = np.array([vy*Lz-vz*Ly,vz*Lx-vx*Lz,vx*Ly-vy*Lx])\n",
    "    n_ecc               = mu*r/r_norm - v_cross_L \n",
    "    n_ecc_norm          = np.sqrt(n_ecc.dot(n_ecc))\n",
    "    n_nu                = np.arccos(r.dot(n_ecc)/r_norm/n_ecc_norm)*180/np.pi\n",
    "    States[counter,:]   = np.array([x,y,z,vx,vy,vz])\n",
    "    Ls[counter,:]       = L\n",
    "    nEccs[counter,:]    = n_ecc\n",
    "    aTAs[counter]       = n_nu\n",
    "    counter             = counter + 1\n",
    "Epochs = np.asarray(Epochs)"
   ]
  },
  {
   "cell_type": "markdown",
   "metadata": {},
   "source": [
    "Want to perform a spot-check of the computation at some chosen time.  Compared against FreeFlyer with the following state:\n",
    "\n",
    "- Epoch: 27-03-2000 00:20:55.000\n",
    "- x:     25706.\n",
    "- y:     5814.0\n",
    "- z:     -3150.6.\n",
    "- vx:    3.27455\n",
    "- vy:    -0.740804\n",
    "- vz:    -2.32263\n",
    "\n",
    "- TA from FreeFlyer:  227.04"
   ]
  },
  {
   "cell_type": "code",
   "execution_count": null,
   "metadata": {
    "collapsed": false
   },
   "outputs": [],
   "source": [
    "time_index = 10"
   ]
  },
  {
   "cell_type": "code",
   "execution_count": null,
   "metadata": {
    "collapsed": false
   },
   "outputs": [],
   "source": [
    "Epochs[time_index]"
   ]
  },
  {
   "cell_type": "code",
   "execution_count": null,
   "metadata": {
    "collapsed": false
   },
   "outputs": [],
   "source": [
    "States[time_index,:]"
   ]
  },
  {
   "cell_type": "code",
   "execution_count": null,
   "metadata": {
    "collapsed": false
   },
   "outputs": [],
   "source": [
    "Ls[time_index,:]"
   ]
  },
  {
   "cell_type": "code",
   "execution_count": null,
   "metadata": {
    "collapsed": false
   },
   "outputs": [],
   "source": [
    "nEccs[time_index,:]"
   ]
  },
  {
   "cell_type": "code",
   "execution_count": null,
   "metadata": {
    "collapsed": false
   },
   "outputs": [],
   "source": [
    "aTAs[time_index]"
   ]
  },
  {
   "cell_type": "code",
   "execution_count": null,
   "metadata": {
    "collapsed": false
   },
   "outputs": [],
   "source": [
    "aTAs[time_index]+180"
   ]
  },
  {
   "cell_type": "markdown",
   "metadata": {},
   "source": [
    "Since everything passed, pickle away the results so that we never have to do that again (or at least only infrequently)"
   ]
  },
  {
   "cell_type": "code",
   "execution_count": null,
   "metadata": {
    "collapsed": false
   },
   "outputs": [],
   "source": [
    "pickle.dump((Epochs,aTAs),open(home_path+'IMAGE_states_pickled.p','wb+'))"
   ]
  },
  {
   "cell_type": "code",
   "execution_count": null,
   "metadata": {
    "collapsed": false
   },
   "outputs": [],
   "source": [
    "good = np.where(abs(aTAs) <= 30)"
   ]
  },
  {
   "cell_type": "code",
   "execution_count": null,
   "metadata": {
    "collapsed": false,
    "scrolled": true
   },
   "outputs": [],
   "source": [
    "Epochs[good]"
   ]
  },
  {
   "cell_type": "code",
   "execution_count": null,
   "metadata": {
    "collapsed": true
   },
   "outputs": [],
   "source": []
  }
 ],
 "metadata": {
  "kernelspec": {
   "display_name": "Python [default]",
   "language": "python",
   "name": "python2"
  },
  "language_info": {
   "codemirror_mode": {
    "name": "ipython",
    "version": 2
   },
   "file_extension": ".py",
   "mimetype": "text/x-python",
   "name": "python",
   "nbconvert_exporter": "python",
   "pygments_lexer": "ipython2",
   "version": "2.7.12"
  }
 },
 "nbformat": 4,
 "nbformat_minor": 0
}
