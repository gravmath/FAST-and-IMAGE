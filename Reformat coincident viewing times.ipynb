{
 "cells": [
  {
   "cell_type": "code",
   "execution_count": 6,
   "metadata": {
    "collapsed": false
   },
   "outputs": [],
   "source": [
    "import datetime as dt"
   ]
  },
  {
   "cell_type": "code",
   "execution_count": 9,
   "metadata": {
    "collapsed": true
   },
   "outputs": [],
   "source": [
    "coincident_viewing_file = 'C:/Users/Conrad/Documents/GitHub/FAST-and-IMAGE/combined_viewing.txt'\n",
    "coincident_viewing_fh   = open(coincident_viewing_file,'r')\n",
    "time_blob = coincident_viewing_fh.readlines()\n",
    "coincident_viewing_fh.close()"
   ]
  },
  {
   "cell_type": "code",
   "execution_count": 30,
   "metadata": {
    "collapsed": true
   },
   "outputs": [],
   "source": [
    "time_in_format  = '%Y-%m-%d %H:%M:%S'\n",
    "time_out_format = '%Y-%j %H:%M:%S'"
   ]
  },
  {
   "cell_type": "code",
   "execution_count": 32,
   "metadata": {
    "collapsed": false
   },
   "outputs": [],
   "source": [
    "coincident_viewing_file = 'C:/Users/Conrad/Documents/GitHub/FAST-and-IMAGE/combined_viewing_doy.txt'\n",
    "coincident_viewing_fh   = open(coincident_viewing_file,'w')\n",
    "for t in time_blob:\n",
    "    record = t.strip('\\n').split(',')\n",
    "    start  = dt.datetime.strptime(record[0],time_in_format)\n",
    "    stop   = dt.datetime.strptime(record[1],time_in_format)\n",
    "    line   = '%s,%s\\n' % (dt.datetime.strftime(start,time_out_format),dt.datetime.strftime(stop,time_out_format))\n",
    "    coincident_viewing_fh.write(line)\n",
    "coincident_viewing_fh.close()"
   ]
  }
 ],
 "metadata": {
  "anaconda-cloud": {},
  "kernelspec": {
   "display_name": "Python [conda root]",
   "language": "python",
   "name": "conda-root-py"
  },
  "language_info": {
   "codemirror_mode": {
    "name": "ipython",
    "version": 2
   },
   "file_extension": ".py",
   "mimetype": "text/x-python",
   "name": "python",
   "nbconvert_exporter": "python",
   "pygments_lexer": "ipython2",
   "version": "2.7.12"
  }
 },
 "nbformat": 4,
 "nbformat_minor": 1
}
