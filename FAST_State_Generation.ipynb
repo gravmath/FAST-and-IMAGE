{
 "cells": [
  {
   "cell_type": "code",
   "execution_count": 1,
   "metadata": {
    "collapsed": true
   },
   "outputs": [],
   "source": [
    "import datetime as dt\n",
    "import pickle\n",
    "import numpy as np\n",
    "import scipy as sp\n",
    "import matplotlib.pyplot as plt\n",
    "%matplotlib inline"
   ]
  },
  {
   "cell_type": "code",
   "execution_count": 2,
   "metadata": {
    "collapsed": false
   },
   "outputs": [],
   "source": [
    "FAST_filename   = 'C:/Users/cschiff/Documents/GitHub/FAST and IMAGE/FAST-and-Image/FAST_def_raw.txt'\n",
    "FAST_filehandle = open(FAST_filename,'r')\n",
    "FAST_blob       = FAST_filehandle.readlines()\n",
    "FAST_filehandle.close()"
   ]
  },
  {
   "cell_type": "code",
   "execution_count": 24,
   "metadata": {
    "collapsed": true
   },
   "outputs": [],
   "source": [
    "num_records       = len(FAST_blob)/7\n",
    "FAST_epoch_format = '%Y-%j/%H:%M:%S.%f'"
   ]
  },
  {
   "cell_type": "code",
   "execution_count": 81,
   "metadata": {
    "collapsed": true
   },
   "outputs": [],
   "source": [
    "Epochs = [0]*num_records\n",
    "States = np.zeros((num_records,6))\n",
    "L      = np.zeros((num_records,3))"
   ]
  },
  {
   "cell_type": "code",
   "execution_count": 92,
   "metadata": {
    "collapsed": false
   },
   "outputs": [],
   "source": [
    "counter = 0\n",
    "for i in range(0,num_records,7):\n",
    "    record             = FAST_blob[i:i+7]\n",
    "    epoch_list         = record[2].split()\n",
    "    epoch_str          = epoch_list[3]+'-'+epoch_list[4]+'/'+epoch_list[5]\n",
    "    epoch              = dt.datetime.strptime(epoch_str,FAST_epoch_format)\n",
    "    Epochs[counter]    = epoch\n",
    "    (t,x,y,z,vx,vy,vz) = map(float,record[6].split())\n",
    "    States[counter,:]  = [x,y,z,vx,vy,vz]\n",
    "    ang_mo             = np.array([y*vz - z*vy, z*vx - x*vz,x*vy - y*vx])\n",
    "    L[counter,:]       = ang_mo\n",
    "    counter            = counter + 1"
   ]
  },
  {
   "cell_type": "code",
   "execution_count": 98,
   "metadata": {
    "collapsed": false
   },
   "outputs": [],
   "source": [
    "pickle.dump((Epochs,States,L),open('c:/users/cschiff/Documents/GitHub/FAST and IMAGE/FAST-and-Image/FAST_states_pickled.p','wb+'))"
   ]
  }
 ],
 "metadata": {
  "kernelspec": {
   "display_name": "Python 2",
   "language": "python",
   "name": "python2"
  },
  "language_info": {
   "codemirror_mode": {
    "name": "ipython",
    "version": 2
   },
   "file_extension": ".py",
   "mimetype": "text/x-python",
   "name": "python",
   "nbconvert_exporter": "python",
   "pygments_lexer": "ipython2",
   "version": "2.7.12"
  }
 },
 "nbformat": 4,
 "nbformat_minor": 0
}
