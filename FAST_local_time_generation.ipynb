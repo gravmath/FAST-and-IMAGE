{
 "cells": [
  {
   "cell_type": "markdown",
   "metadata": {},
   "source": [
    "Last update 11/13/2016\n",
    "\n",
    "Generating FAST local time computations"
   ]
  },
  {
   "cell_type": "code",
   "execution_count": 1,
   "metadata": {
    "collapsed": false
   },
   "outputs": [],
   "source": [
    "import datetime as dt\n",
    "import pickle\n",
    "import numpy    as np\n",
    "import scipy    as sp\n",
    "import matplotlib.pyplot as plt\n",
    "\n",
    "import sys\n",
    "sys.path.append('c:/Users/Conrad/Documents/GitHub/PAD/')\n",
    "import Convert\n",
    "\n",
    "%matplotlib inline"
   ]
  },
  {
   "cell_type": "code",
   "execution_count": 2,
   "metadata": {
    "collapsed": false
   },
   "outputs": [],
   "source": [
    "work_path = 'C:/Users/cschiff/Documents/GitHub/FAST-and-IMAGE/'\n",
    "home_path = 'C:/Users/Conrad/Documents/GitHub/FAST-and-IMAGE/'\n",
    "Fast_eph_file = home_path+'FAST_def_raw.eph'\n",
    "Fast_eph_fh   = open(Fast_eph_file,'r')\n",
    "Fast_eph_blob = Fast_eph_fh.readlines()\n",
    "Fast_eph_fh.close()"
   ]
  },
  {
   "cell_type": "code",
   "execution_count": 3,
   "metadata": {
    "collapsed": false
   },
   "outputs": [],
   "source": [
    "Fast_date_format = '%Y-%j-%H:%M:%S.%f'"
   ]
  },
  {
   "cell_type": "code",
   "execution_count": 4,
   "metadata": {
    "collapsed": false
   },
   "outputs": [],
   "source": [
    "num_records = len(Fast_eph_blob)/7\n",
    "Epochs      = [0]*num_records\n",
    "States      = np.zeros((num_records,6))\n",
    "Ls          = np.zeros((num_records,3))\n",
    "LTs         = np.zeros((num_records))\n",
    "counter = 0\n",
    "for i in range(num_records):\n",
    "    record          = Fast_eph_blob[i*7:(i+1)*7]\n",
    "    epoch_list      = record[2].split()\n",
    "    epoch_str       = epoch_list[3]+'-'+epoch_list[4]+'-'+epoch_list[5]\n",
    "    epoch           = dt.datetime.strptime(epoch_str,Fast_date_format)\n",
    "    x,y,z,vx,vy,vz  = map(float,record[6].split()[1:7])\n",
    "    state           = [x,y,z,vx,vy,vz]\n",
    "    L               = [y*vz-z*vy,z*vx-x*vz,x*vy-y*vx]\n",
    "    epoch_dict      = {'year':epoch.year,'month':epoch.month,'day':epoch.day,\\\n",
    "                       'hour':epoch.hour,'min':epoch.minute,'sec':epoch.second}\n",
    "    L_SM            = Convert.convert_GCI_to_SM(epoch_dict).dot(L)\n",
    "    LT_SM           = Convert.calc_LT(L_SM)    \n",
    "    Epochs[counter] = epoch\n",
    "    States[counter] = state\n",
    "    Ls[counter]     = L\n",
    "    LTs[counter]    = LT_SM\n",
    "    counter         = counter + 1\n",
    "Epochs = np.asarray(Epochs)"
   ]
  },
  {
   "cell_type": "code",
   "execution_count": 24,
   "metadata": {
    "collapsed": false
   },
   "outputs": [],
   "source": [
    "pickle.dump((Epochs,LTs),open('C:/Users/Conrad/Documents/GitHub/FAST-and-Image/FAST_states_pickled.p','w+'))"
   ]
  },
  {
   "cell_type": "markdown",
   "metadata": {},
   "source": [
    "Spot check the results - pick a random time"
   ]
  },
  {
   "cell_type": "code",
   "execution_count": 5,
   "metadata": {
    "collapsed": true
   },
   "outputs": [],
   "source": [
    "N = 32367"
   ]
  },
  {
   "cell_type": "code",
   "execution_count": 6,
   "metadata": {
    "collapsed": false
   },
   "outputs": [
    {
     "data": {
      "text/plain": [
       "datetime.datetime(2004, 9, 16, 14, 27, 22, 944565)"
      ]
     },
     "execution_count": 6,
     "metadata": {},
     "output_type": "execute_result"
    }
   ],
   "source": [
    "Epochs[N]"
   ]
  },
  {
   "cell_type": "code",
   "execution_count": 7,
   "metadata": {
    "collapsed": false
   },
   "outputs": [
    {
     "data": {
      "text/plain": [
       "array([ -8.72200871e+03,  -4.40007611e+03,   3.87816581e-04,\n",
       "        -3.53086076e-01,  -9.75232749e-01,   5.77114527e+00])"
      ]
     },
     "execution_count": 7,
     "metadata": {},
     "output_type": "execute_result"
    }
   ],
   "source": [
    "States[N]"
   ]
  },
  {
   "cell_type": "code",
   "execution_count": 8,
   "metadata": {
    "collapsed": false
   },
   "outputs": [
    {
     "data": {
      "text/plain": [
       "array([-25393.47805967,  50335.97916026,   6952.38291778])"
      ]
     },
     "execution_count": 8,
     "metadata": {},
     "output_type": "execute_result"
    }
   ],
   "source": [
    "Ls[N]"
   ]
  },
  {
   "cell_type": "code",
   "execution_count": 9,
   "metadata": {
    "collapsed": false
   },
   "outputs": [
    {
     "data": {
      "text/plain": [
       "8.041178685669486"
      ]
     },
     "execution_count": 9,
     "metadata": {},
     "output_type": "execute_result"
    }
   ],
   "source": [
    "LTs[N]"
   ]
  },
  {
   "cell_type": "markdown",
   "metadata": {
    "collapsed": true
   },
   "source": [
    "Now to estimate the local time (given that Convert has already been tested - this is just a test that Convert was applied correctly).\n",
    "\n",
    "From basic physics, the mean local time in SM coordinates of the angular momentum vector $\\vec L$ should be very close to the angle between $\\vec L$ and the sun vector ${\\vec r}_S$\n",
    "\n",
    "Using a basic geometric relation of the sun's position and velocity, allows for the angular momentum to be 'quadrant checked'; basically the difference in the angles of $\\vec L$ wrt ${\\vec r}_S$ and ${\\vec v}_S$ (sun's velocity) should be about 90 degrees and the angle between the angular momentum and the sun's velocity sets which side of noon $\\vec L$ is on."
   ]
  },
  {
   "cell_type": "code",
   "execution_count": 11,
   "metadata": {
    "collapsed": false
   },
   "outputs": [
    {
     "name": "stdout",
     "output_type": "stream",
     "text": [
      "{'hour': 14, 'min': 27, 'month': 9, 'sec': 22, 'year': 2004, 'day': 16}\n"
     ]
    }
   ],
   "source": [
    "epoch = Epochs[N]\n",
    "epoch_dict      = {'year':epoch.year,'month':epoch.month,'day':epoch.day,\\\n",
    "                   'hour':epoch.hour,'min':epoch.minute,'sec':epoch.second}\n",
    "print epoch_dict"
   ]
  },
  {
   "cell_type": "code",
   "execution_count": 13,
   "metadata": {
    "collapsed": false
   },
   "outputs": [],
   "source": [
    "Sun_pos, Sun_vel = Convert.SunEph.CalcSun_Low(epoch_dict)"
   ]
  },
  {
   "cell_type": "code",
   "execution_count": 25,
   "metadata": {
    "collapsed": false
   },
   "outputs": [],
   "source": [
    "Sun_pos_norm = np.sqrt(Sun_pos.dot(Sun_pos))\n",
    "Sun_vel_norm = np.sqrt(Sun_vel.dot(Sun_vel))"
   ]
  },
  {
   "cell_type": "code",
   "execution_count": 19,
   "metadata": {
    "collapsed": false
   },
   "outputs": [],
   "source": [
    "L = Ls[N]\n",
    "L_norm = np.sqrt(L.dot(L))"
   ]
  },
  {
   "cell_type": "code",
   "execution_count": 26,
   "metadata": {
    "collapsed": false
   },
   "outputs": [],
   "source": [
    "angle_Sun_pos = np.arccos(L.dot(Sun_pos)/L_norm/Sun_pos_norm)*180/np.pi\n",
    "angle_Sun_vel = np.arccos(L.dot(Sun_vel)/L_norm/Sun_vel_norm)*180/np.pi"
   ]
  },
  {
   "cell_type": "code",
   "execution_count": 32,
   "metadata": {
    "collapsed": false
   },
   "outputs": [
    {
     "name": "stdout",
     "output_type": "stream",
     "text": [
      "87.2628935477\n",
      "57.7404506336 145.003344181\n"
     ]
    }
   ],
   "source": [
    "print angle_Sun_vel - angle_Sun_pos\n",
    "print angle_Sun_pos, angle_Sun_vel"
   ]
  },
  {
   "cell_type": "code",
   "execution_count": 30,
   "metadata": {
    "collapsed": false
   },
   "outputs": [
    {
     "name": "stdout",
     "output_type": "stream",
     "text": [
      "8.15063662442\n"
     ]
    }
   ],
   "source": [
    "LT_estimated = 12 - angle_Sun_pos*24/360\n",
    "print LT_estimated"
   ]
  },
  {
   "cell_type": "code",
   "execution_count": 31,
   "metadata": {
    "collapsed": false
   },
   "outputs": [
    {
     "data": {
      "text/plain": [
       "8.041178685669486"
      ]
     },
     "execution_count": 31,
     "metadata": {},
     "output_type": "execute_result"
    }
   ],
   "source": [
    "LTs[N]"
   ]
  },
  {
   "cell_type": "markdown",
   "metadata": {},
   "source": [
    "Success!!!"
   ]
  },
  {
   "cell_type": "code",
   "execution_count": null,
   "metadata": {
    "collapsed": true
   },
   "outputs": [],
   "source": []
  }
 ],
 "metadata": {
  "kernelspec": {
   "display_name": "Python [conda root]",
   "language": "python",
   "name": "conda-root-py"
  },
  "language_info": {
   "codemirror_mode": {
    "name": "ipython",
    "version": 2
   },
   "file_extension": ".py",
   "mimetype": "text/x-python",
   "name": "python",
   "nbconvert_exporter": "python",
   "pygments_lexer": "ipython2",
   "version": "2.7.12"
  }
 },
 "nbformat": 4,
 "nbformat_minor": 1
}
