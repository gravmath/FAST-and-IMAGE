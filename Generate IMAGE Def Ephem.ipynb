{
 "cells": [
  {
   "cell_type": "code",
   "execution_count": 1,
   "metadata": {
    "collapsed": true
   },
   "outputs": [],
   "source": [
    "import datetime as dt\n",
    "import numpy    as np\n",
    "import scipy    as sp\n",
    "import matplotlib.pyplot as plt\n",
    "%matplotlib inline"
   ]
  },
  {
   "cell_type": "markdown",
   "metadata": {},
   "source": [
    "A simple process to merge the 6 IMAGE ephem files downloaded on 11/9/2016 from CDAWEB and to filter them down."
   ]
  },
  {
   "cell_type": "code",
   "execution_count": 6,
   "metadata": {
    "collapsed": true
   },
   "outputs": [],
   "source": [
    "IMAGE_date_format = '%d-%m-%Y %H:%M:%S.%f'"
   ]
  },
  {
   "cell_type": "code",
   "execution_count": 46,
   "metadata": {
    "collapsed": false
   },
   "outputs": [],
   "source": [
    "path           = 'c:/users/cschiff/Documents/GitHub/Fast and Image/Fast-and-Image/'\n",
    "IMAGE_eph_file = path+'IMAGE_filtered_eph.txt'\n",
    "IMAGE_eph      = open(IMAGE_eph_file,'w+')"
   ]
  },
  {
   "cell_type": "code",
   "execution_count": 47,
   "metadata": {
    "collapsed": true
   },
   "outputs": [],
   "source": [
    "def parse_image_eph_line(line):\n",
    "    record    = line.strip('\\n\\r').split()\n",
    "    epoch_str = record[0]+' '+record[1]\n",
    "    epoch_dt  = dt.datetime.strptime(epoch_str,IMAGE_date_format)\n",
    "    if epoch_dt.hour == 0 and epoch_dt.minute == 0:\n",
    "        return True\n",
    "    else:\n",
    "        return False"
   ]
  },
  {
   "cell_type": "code",
   "execution_count": 50,
   "metadata": {
    "collapsed": false
   },
   "outputs": [
    {
     "name": "stdout",
     "output_type": "stream",
     "text": [
      "Handling c:/users/cschiff/Documents/GitHub/Fast and Image/Fast-and-Image/IM_OR_DEF_2000.txt\n",
      "Handling c:/users/cschiff/Documents/GitHub/Fast and Image/Fast-and-Image/IM_OR_DEF_2001.txt\n",
      "Handling c:/users/cschiff/Documents/GitHub/Fast and Image/Fast-and-Image/IM_OR_DEF_2002.txt\n",
      "Handling c:/users/cschiff/Documents/GitHub/Fast and Image/Fast-and-Image/IM_OR_DEF_2003.txt\n",
      "Handling c:/users/cschiff/Documents/GitHub/Fast and Image/Fast-and-Image/IM_OR_DEF_2004.txt\n",
      "Handling c:/users/cschiff/Documents/GitHub/Fast and Image/Fast-and-Image/IM_OR_DEF_2005.txt\n"
     ]
    }
   ],
   "source": [
    "years = ['2000','2001','2002','2003','2004','2005']\n",
    "for year in years:\n",
    "    filename   = path+'IM_OR_DEF_%s.txt' % year\n",
    "    print 'Handling %s' % filename \n",
    "    filehandle = open(filename,'r')\n",
    "    raw_eph    = filehandle.readlines()\n",
    "    filehandle.close()\n",
    "    eph_blob   = raw_eph[40:-4]\n",
    "    for l in eph_blob:\n",
    "        if parse_image_eph_line(l) == True:\n",
    "            IMAGE_eph.write(l)\n",
    "            \n",
    "IMAGE_eph.close()"
   ]
  },
  {
   "cell_type": "code",
   "execution_count": null,
   "metadata": {
    "collapsed": true
   },
   "outputs": [],
   "source": []
  }
 ],
 "metadata": {
  "kernelspec": {
   "display_name": "Python 2",
   "language": "python",
   "name": "python2"
  },
  "language_info": {
   "codemirror_mode": {
    "name": "ipython",
    "version": 2
   },
   "file_extension": ".py",
   "mimetype": "text/x-python",
   "name": "python",
   "nbconvert_exporter": "python",
   "pygments_lexer": "ipython2",
   "version": "2.7.12"
  }
 },
 "nbformat": 4,
 "nbformat_minor": 0
}
