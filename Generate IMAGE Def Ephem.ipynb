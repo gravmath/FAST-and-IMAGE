{
 "cells": [
  {
   "cell_type": "markdown",
   "metadata": {},
   "source": [
    "Last updated - 11/12/2016:\n",
    "\n",
    "-After tagup with E. Zesta, R. Strangeway, and D. Wendel, the full ephem for IMAGE is needed so that true anomaly can be used to determine when IMAGE is within 30 degrees of apogee.\n",
    "\n",
    "-Keeping the native image epoch format\n",
    "\n",
    "-Trimmed a transition line from the 2000 portion that occured between 04-04-2000 15:58:55.000 and 04-04-2000 16:00:00.000   \n",
    "\n",
    "-Visually checked transitions between:  \n",
    "\n",
    "    a) 2000 & 2001 (correct); \n",
    "    b) 2001 & 2002 (correct); \n",
    "    c) 2002 & 2003 (correct); \n",
    "    d) 2003 & 2004 (correct); \n",
    "    e) 2004 & 2005 (correct); \n",
    "    f) 2005 to end (correct)"
   ]
  },
  {
   "cell_type": "code",
   "execution_count": 2,
   "metadata": {
    "collapsed": true
   },
   "outputs": [],
   "source": [
    "import datetime as dt\n",
    "import numpy    as np\n",
    "import scipy    as sp\n",
    "import matplotlib.pyplot as plt\n",
    "%matplotlib inline"
   ]
  },
  {
   "cell_type": "code",
   "execution_count": 12,
   "metadata": {
    "collapsed": true
   },
   "outputs": [],
   "source": [
    "def parse_image_eph_line(line):\n",
    "    record    = line.strip('\\n\\r').split()\n",
    "    epoch_str = record[0]+' '+record[1]\n",
    "    epoch_dt  = dt.datetime.strptime(epoch_str,IMAGE_date_format)\n",
    "    if epoch_dt.hour == 0 and epoch_dt.minute == 0:\n",
    "        return True\n",
    "    else:\n",
    "        return False"
   ]
  },
  {
   "cell_type": "markdown",
   "metadata": {},
   "source": [
    "A simple process to merge the 6 IMAGE ephem files downloaded on 11/9/2016 (and again on 11/12/2016) from CDAWEB into one data structure."
   ]
  },
  {
   "cell_type": "code",
   "execution_count": 3,
   "metadata": {
    "collapsed": true
   },
   "outputs": [],
   "source": [
    "IMAGE_date_format = '%d-%m-%Y %H:%M:%S.%f'"
   ]
  },
  {
   "cell_type": "code",
   "execution_count": 17,
   "metadata": {
    "collapsed": false
   },
   "outputs": [],
   "source": [
    "path_home      = 'c:/users/Conrad/Documents/GitHub/FAST-and-IMAGE/'\n",
    "path_work      = 'c:/users/cschiff/Documents/GitHub/FAST-and-IMAGE/'\n",
    "IMAGE_eph_file = path_home+'IMAGE_full_eph.eph'\n",
    "IMAGE_eph      = open(IMAGE_eph_file,'w+')"
   ]
  },
  {
   "cell_type": "code",
   "execution_count": 18,
   "metadata": {
    "collapsed": false
   },
   "outputs": [
    {
     "name": "stdout",
     "output_type": "stream",
     "text": [
      "Handling c:/users/Conrad/Documents/GitHub/FAST-and-IMAGE/IM_OR_DEF_2000.eph\n",
      "Handling c:/users/Conrad/Documents/GitHub/FAST-and-IMAGE/IM_OR_DEF_2001.eph\n",
      "Handling c:/users/Conrad/Documents/GitHub/FAST-and-IMAGE/IM_OR_DEF_2002.eph\n",
      "Handling c:/users/Conrad/Documents/GitHub/FAST-and-IMAGE/IM_OR_DEF_2003.eph\n",
      "Handling c:/users/Conrad/Documents/GitHub/FAST-and-IMAGE/IM_OR_DEF_2004.eph\n",
      "Handling c:/users/Conrad/Documents/GitHub/FAST-and-IMAGE/IM_OR_DEF_2005.eph\n"
     ]
    }
   ],
   "source": [
    "years = ['2000','2001','2002','2003','2004','2005']\n",
    "for year in years:\n",
    "    filename   = path_home+'IM_OR_DEF_%s.eph' % year\n",
    "    print 'Handling %s' % filename \n",
    "    filehandle = open(filename,'r')\n",
    "    raw_eph    = filehandle.readlines()\n",
    "    filehandle.close()\n",
    "    eph_blob   = raw_eph[40:-3]\n",
    "    for l in eph_blob:\n",
    "        IMAGE_eph.write(l)\n",
    "            \n",
    "IMAGE_eph.close()"
   ]
  },
  {
   "cell_type": "markdown",
   "metadata": {
    "collapsed": true
   },
   "source": []
  }
 ],
 "metadata": {
  "anaconda-cloud": {},
  "kernelspec": {
   "display_name": "Python [default]",
   "language": "python",
   "name": "python2"
  },
  "language_info": {
   "codemirror_mode": {
    "name": "ipython",
    "version": 2
   },
   "file_extension": ".py",
   "mimetype": "text/x-python",
   "name": "python",
   "nbconvert_exporter": "python",
   "pygments_lexer": "ipython2",
   "version": "2.7.12"
  }
 },
 "nbformat": 4,
 "nbformat_minor": 0
}
