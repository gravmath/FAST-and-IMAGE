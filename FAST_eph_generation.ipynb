{
 "cells": [
  {
   "cell_type": "code",
   "execution_count": 1,
   "metadata": {
    "collapsed": false
   },
   "outputs": [],
   "source": [
    "import datetime as dt\n",
    "import pickle\n",
    "import numpy    as np\n",
    "import scipy    as sp\n",
    "import matplotlib.pyplot as plt\n",
    "%matplotlib inline"
   ]
  },
  {
   "cell_type": "code",
   "execution_count": 2,
   "metadata": {
    "collapsed": false
   },
   "outputs": [],
   "source": [
    "Fast_eph_file = 'C:/Users/Conrad/Documents/GitHub/FAST-and-Image/FAST_def_raw.txt'\n",
    "Fast_eph_fh   = open(Fast_eph_file,'r')\n",
    "Fast_eph_blob = Fast_eph_fh.readlines()\n",
    "Fast_eph_fh.close()"
   ]
  },
  {
   "cell_type": "code",
   "execution_count": 3,
   "metadata": {
    "collapsed": false
   },
   "outputs": [],
   "source": [
    "Fast_date_format = '%Y-%j-%H:%M:%S.%f'"
   ]
  },
  {
   "cell_type": "code",
   "execution_count": 12,
   "metadata": {
    "collapsed": false
   },
   "outputs": [],
   "source": [
    "prev_epoch  = dt.datetime.strptime('1996-234-10:30:0.000000',Fast_date_format)"
   ]
  },
  {
   "cell_type": "code",
   "execution_count": 21,
   "metadata": {
    "collapsed": false
   },
   "outputs": [],
   "source": [
    "num_records = len(Fast_eph_blob)/7\n",
    "Epochs      = []\n",
    "States      = []\n",
    "L           = []\n",
    "for i in range(num_records):\n",
    "    record         = Fast_eph_blob[i*7:(i+1)*7]\n",
    "    epoch_list     = record[2].split()\n",
    "    epoch_str      = epoch_list[3]+'-'+epoch_list[4]+'-'+epoch_list[5]\n",
    "    epoch          = dt.datetime.strptime(epoch_str,Fast_date_format)\n",
    "    if (epoch - prev_epoch).days != 0:  #it's a new day\n",
    "        x,y,z,vx,vy,vz = map(float,record[6].split()[1:7])\n",
    "        state          = [x,y,z,vx,vy,vz]\n",
    "        ang_mo         = [y*vz-z*vy,z*vx-x*vz,x*vy-y*vx]\n",
    "        Epochs.append(epoch)\n",
    "        States.append(state)\n",
    "        L.append(ang_mo)\n",
    "        prev_epoch     = epoch"
   ]
  },
  {
   "cell_type": "code",
   "execution_count": 29,
   "metadata": {
    "collapsed": false
   },
   "outputs": [],
   "source": [
    "Epochs = np.array(Epochs)\n",
    "States = np.array(States)\n",
    "L      = np.array(L)"
   ]
  },
  {
   "cell_type": "code",
   "execution_count": 30,
   "metadata": {
    "collapsed": false
   },
   "outputs": [],
   "source": [
    "pickle.dump((Epochs,States,L),open('C:/Users/Conrad/Documents/GitHub/FAST-and-Image/FAST_states_pickled.p','w+'))"
   ]
  },
  {
   "cell_type": "code",
   "execution_count": null,
   "metadata": {
    "collapsed": true
   },
   "outputs": [],
   "source": []
  }
 ],
 "metadata": {
  "kernelspec": {
   "display_name": "Python [conda root]",
   "language": "python",
   "name": "conda-root-py"
  },
  "language_info": {
   "codemirror_mode": {
    "name": "ipython",
    "version": 2
   },
   "file_extension": ".py",
   "mimetype": "text/x-python",
   "name": "python",
   "nbconvert_exporter": "python",
   "pygments_lexer": "ipython2",
   "version": "2.7.12"
  }
 },
 "nbformat": 4,
 "nbformat_minor": 1
}
